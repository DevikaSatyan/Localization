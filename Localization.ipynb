{
  "nbformat": 4,
  "nbformat_minor": 0,
  "metadata": {
    "colab": {
      "name": " Localization.ipynb",
      "provenance": [],
      "collapsed_sections": []
    },
    "kernelspec": {
      "name": "python3",
      "display_name": "Python 3"
    },
    "accelerator": "GPU"
  },
  "cells": [
    {
      "cell_type": "markdown",
      "source": [
        "###LOCALIZATION OF WHITE BOX IN A BLACK BACKGROUND USING A PRETRAINED VGG16(TRANSFER LEARNING)"
      ],
      "metadata": {
        "id": "fXJ40VgipTtB"
      }
    },
    {
      "cell_type": "code",
      "metadata": {
        "id": "ixUCIaiApl-r",
        "outputId": "3817756b-bee8-4df2-8080-3ec0811544cc",
        "colab": {
          "base_uri": "https://localhost:8080/"
        }
      },
      "source": [
        "\n",
        "import tensorflow as tf\n",
        "print(tf.__version__)"
      ],
      "execution_count": 1,
      "outputs": [
        {
          "output_type": "stream",
          "name": "stdout",
          "text": [
            "2.7.0\n"
          ]
        }
      ]
    },
    {
      "cell_type": "code",
      "metadata": {
        "id": "tShoFO94pwP8"
      },
      "source": [
        "import numpy as np\n",
        "from matplotlib import pyplot as plt\n",
        "from tensorflow.keras.layers import Flatten, Dense\n",
        "from tensorflow.keras.models import Model\n",
        "from tensorflow.keras.optimizers import Adam, SGD"
      ],
      "execution_count": 2,
      "outputs": []
    },
    {
      "cell_type": "code",
      "metadata": {
        "id": "X6s282atpzCZ"
      },
      "source": [
        "vgg = tf.keras.applications.VGG16(\n",
        "    input_shape=[100, 100, 3], include_top=False, weights='imagenet')#3 beacuse the pretrianed VGG16 works in 3 channels and \"include_top=False\" because we donot want the head of the model"
      ],
      "execution_count": 4,
      "outputs": []
    },
    {
      "cell_type": "code",
      "metadata": {
        "id": "Wsv2WiQHqA8K"
      },
      "source": [
        "x = Flatten()(vgg.output)#we flatten the image to get vector\n",
        "x = Dense(4, activation='sigmoid')(x)# 4-- numbers of the bounding box-- x1,y1,ht,wdt\n",
        "model = Model(vgg.input, x)"
      ],
      "execution_count": 6,
      "outputs": []
    },
    {
      "cell_type": "code",
      "metadata": {
        "id": "nU3exfMwqsmJ"
      },
      "source": [
        "def image_generator(batch_size=64):\n",
        "  # generate image and targets\n",
        "  while True:\n",
        "    for _ in range(50):#50 is a random number... high batch_size means low epochs and vice-versa\n",
        "      X = np.zeros((batch_size, 100, 100, 3))#input\n",
        "      Y = np.zeros((batch_size, 4))#output... 100* 100 is an arbitrary choice\n",
        "      \n",
        "      for i in range(batch_size):\n",
        "        row0 = np.random.randint(90)#randomly choose a number between 1 and 90 for the coordinate\n",
        "        col0 = np.random.randint(90)\n",
        "        row1 = np.random.randint(row0, 100)\n",
        "        col1 = np.random.randint(col0, 100)\n",
        "        X[i,row0:row1,col0:col1,:] = 1\n",
        "        #scaling is done\n",
        "        Y[i,0] = row0/100.\n",
        "        Y[i,1] = col0/100.\n",
        "        Y[i,2] = (row1 - row0)/100.\n",
        "        Y[i,3] = (col1 - col0)/100.\n",
        "      \n",
        "      yield X, Y"
      ],
      "execution_count": 7,
      "outputs": []
    },
    {
      "cell_type": "code",
      "metadata": {
        "id": "3W7tKt8OrNvF",
        "colab": {
          "base_uri": "https://localhost:8080/"
        },
        "outputId": "7788b653-da91-4432-ee4e-a235de856e08"
      },
      "source": [
        "model.compile(loss='binary_crossentropy', optimizer=Adam(lr=0.001))"
      ],
      "execution_count": 8,
      "outputs": [
        {
          "output_type": "stream",
          "name": "stderr",
          "text": [
            "/usr/local/lib/python3.7/dist-packages/keras/optimizer_v2/adam.py:105: UserWarning: The `lr` argument is deprecated, use `learning_rate` instead.\n",
            "  super(Adam, self).__init__(name, **kwargs)\n"
          ]
        }
      ]
    },
    {
      "cell_type": "code",
      "metadata": {
        "id": "6dmbBnlLrY7y",
        "outputId": "b565c7da-787c-4ffa-e919-e6d004fdff4c",
        "colab": {
          "base_uri": "https://localhost:8080/"
        }
      },
      "source": [
        "model.fit_generator(\n",
        "    image_generator(),\n",
        "    steps_per_epoch=50,\n",
        "    epochs=5,\n",
        ")"
      ],
      "execution_count": 9,
      "outputs": [
        {
          "output_type": "stream",
          "name": "stderr",
          "text": [
            "/usr/local/lib/python3.7/dist-packages/ipykernel_launcher.py:4: UserWarning: `Model.fit_generator` is deprecated and will be removed in a future version. Please use `Model.fit`, which supports generators.\n",
            "  after removing the cwd from sys.path.\n"
          ]
        },
        {
          "output_type": "stream",
          "name": "stdout",
          "text": [
            "Epoch 1/5\n",
            "50/50 [==============================] - 40s 463ms/step - loss: 0.6638\n",
            "Epoch 2/5\n",
            "50/50 [==============================] - 23s 463ms/step - loss: 0.5171\n",
            "Epoch 3/5\n",
            "50/50 [==============================] - 23s 463ms/step - loss: 0.5125\n",
            "Epoch 4/5\n",
            "50/50 [==============================] - 23s 463ms/step - loss: 0.5074\n",
            "Epoch 5/5\n",
            "50/50 [==============================] - 23s 463ms/step - loss: 0.5016\n"
          ]
        },
        {
          "output_type": "execute_result",
          "data": {
            "text/plain": [
              "<keras.callbacks.History at 0x7fe65011b090>"
            ]
          },
          "metadata": {},
          "execution_count": 9
        }
      ]
    },
    {
      "cell_type": "code",
      "metadata": {
        "id": "79nGWeyjuJ0T"
      },
      "source": [
        "from matplotlib.patches import Rectangle\n",
        "\n",
        "# Make predictions\n",
        "def make_prediction():\n",
        "  # Generate a random image\n",
        "  x = np.zeros((100, 100, 3))\n",
        "  row0 = np.random.randint(90)\n",
        "  col0 = np.random.randint(90)\n",
        "  row1 = np.random.randint(row0, 100)\n",
        "  col1 = np.random.randint(col0, 100)\n",
        "  x[row0:row1,col0:col1,:] = 1\n",
        "  print(row0, col0, row1, col1)\n",
        "  \n",
        "  # Predict\n",
        "  X = np.expand_dims(x, 0)#for batch_size\n",
        "  p = model.predict(X)[0]\n",
        "  \n",
        "  # Draw the box\n",
        "  fig, ax = plt.subplots(1)\n",
        "  ax.imshow(x)\n",
        "  rect = Rectangle(\n",
        "      (p[1]*100, p[0]*100),\n",
        "      p[3]*100, p[2]*100,linewidth=1,edgecolor='r',facecolor='none')\n",
        "  ax.add_patch(rect)\n",
        "  plt.show()\n"
      ],
      "execution_count": 10,
      "outputs": []
    },
    {
      "cell_type": "code",
      "metadata": {
        "id": "xcZNN0nHvpvT",
        "outputId": "f10318f4-01cd-464a-d7e7-f6f39b05eb86",
        "colab": {
          "base_uri": "https://localhost:8080/",
          "height": 285
        }
      },
      "source": [
        "make_prediction()#run to see multiple predictions i.e, identify location of the box"
      ],
      "execution_count": 14,
      "outputs": [
        {
          "output_type": "stream",
          "name": "stdout",
          "text": [
            "47 64 97 93\n"
          ]
        },
        {
          "output_type": "display_data",
          "data": {
            "image/png": "[encoded data removed]",
            "text/plain": [
              "<Figure size 432x288 with 1 Axes>"
            ]
          },
          "metadata": {
            "needs_background": "light"
          }
        }
      ]
    }
  ]
}